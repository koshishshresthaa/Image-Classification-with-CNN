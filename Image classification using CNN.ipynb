{
 "cells": [
  {
   "cell_type": "code",
   "execution_count": 29,
   "id": "e2aa546d",
   "metadata": {
    "scrolled": false
   },
   "outputs": [],
   "source": [
    "import tensorflow as tf\n",
    "from tensorflow import keras\n",
    "from tensorflow.keras import datasets, layers, models\n",
    "import matplotlib.pyplot as plt\n",
    "import numpy as np"
   ]
  },
  {
   "cell_type": "code",
   "execution_count": 30,
   "id": "bcf7ecb8",
   "metadata": {},
   "outputs": [
    {
     "name": "stdout",
     "output_type": "stream",
     "text": [
      "[PhysicalDevice(name='/physical_device:GPU:0', device_type='GPU')]\n"
     ]
    }
   ],
   "source": [
    "print(tf.config.list_physical_devices('GPU'))"
   ]
  },
  {
   "cell_type": "code",
   "execution_count": 31,
   "id": "b0e35a8a",
   "metadata": {},
   "outputs": [],
   "source": [
    "import tensorflow as tf\n",
    "gpus = tf.config.experimental.list_physical_devices('GPU')\n",
    "if gpus:\n",
    "    try:\n",
    "        for gpu in gpus:\n",
    "            tf.config.experimental.set_memory_growth(gpu, True)\n",
    "    except RuntimeError as e:\n",
    "        print(e)\n"
   ]
  },
  {
   "cell_type": "code",
   "execution_count": 32,
   "id": "bd3101b0",
   "metadata": {},
   "outputs": [
    {
     "data": {
      "text/plain": [
       "(50000, 32, 32, 3)"
      ]
     },
     "execution_count": 32,
     "metadata": {},
     "output_type": "execute_result"
    }
   ],
   "source": [
    "(X_train,y_train),(X_test,y_test)= datasets.cifar10.load_data()\n",
    "X_train.shape"
   ]
  },
  {
   "cell_type": "code",
   "execution_count": 33,
   "id": "0bc144b5",
   "metadata": {},
   "outputs": [
    {
     "data": {
      "text/plain": [
       "(10000, 32, 32, 3)"
      ]
     },
     "execution_count": 33,
     "metadata": {},
     "output_type": "execute_result"
    }
   ],
   "source": [
    "X_test.shape"
   ]
  },
  {
   "cell_type": "code",
   "execution_count": 34,
   "id": "639fbb02",
   "metadata": {},
   "outputs": [],
   "source": [
    "#converting 2d array to 1d array of y"
   ]
  },
  {
   "cell_type": "code",
   "execution_count": 35,
   "id": "1483cfd9",
   "metadata": {},
   "outputs": [
    {
     "data": {
      "text/plain": [
       "array([6, 9, 9, 4, 1], dtype=uint8)"
      ]
     },
     "execution_count": 35,
     "metadata": {},
     "output_type": "execute_result"
    }
   ],
   "source": [
    "y_train=y_train.reshape(-1,)\n",
    "y_train[:5]"
   ]
  },
  {
   "cell_type": "code",
   "execution_count": 36,
   "id": "7d2e2e4f",
   "metadata": {},
   "outputs": [],
   "source": [
    "classes=[\"airplane\",\"automobile\",\"bird\",\"cat\",\"deer\",\"dog\",\"frog\",\"horse\",\"ship\",\"train\"]"
   ]
  },
  {
   "cell_type": "code",
   "execution_count": 37,
   "id": "d22dbfce",
   "metadata": {},
   "outputs": [],
   "source": [
    "def plot_sample(X,y,index):\n",
    "    plt.figure(figsize=(15,2))\n",
    "    plt.imshow(X[index])\n",
    "    plt.xlabel(classes[y[index]])"
   ]
  },
  {
   "cell_type": "code",
   "execution_count": 38,
   "id": "16098229",
   "metadata": {},
   "outputs": [],
   "source": [
    "X_train=X_train/255\n",
    "X_test=X_test/255"
   ]
  },
  {
   "cell_type": "code",
   "execution_count": 39,
   "id": "3d798367",
   "metadata": {},
   "outputs": [],
   "source": [
    "##Withouto using CNN "
   ]
  },
  {
   "cell_type": "code",
   "execution_count": 41,
   "id": "d5898791",
   "metadata": {},
   "outputs": [
    {
     "name": "stdout",
     "output_type": "stream",
     "text": [
      "Epoch 1/5\n",
      "1563/1563 [==============================] - 14s 8ms/step - loss: 1.8068 - accuracy: 0.3574\n",
      "Epoch 2/5\n",
      "1563/1563 [==============================] - 11s 7ms/step - loss: 1.6169 - accuracy: 0.4304\n",
      "Epoch 3/5\n",
      "1563/1563 [==============================] - 11s 7ms/step - loss: 1.5362 - accuracy: 0.4579\n",
      "Epoch 4/5\n",
      "1563/1563 [==============================] - 11s 7ms/step - loss: 1.4769 - accuracy: 0.4803\n",
      "Epoch 5/5\n",
      "1563/1563 [==============================] - 11s 7ms/step - loss: 1.4241 - accuracy: 0.4971\n"
     ]
    },
    {
     "data": {
      "text/plain": [
       "<keras.callbacks.History at 0x201dd543340>"
      ]
     },
     "execution_count": 41,
     "metadata": {},
     "output_type": "execute_result"
    }
   ],
   "source": [
    "model = keras.Sequential([\n",
    "    \n",
    "    keras.layers.Flatten(input_shape=(32,32,3)),\n",
    "    keras.layers.Dense(32*32*3,activation='relu'),\n",
    "    keras.layers.Dense(32*32*3,activation='relu'),\n",
    "    keras.layers.Dense(10,activation='sigmoid')\n",
    "    \n",
    "])\n",
    "\n",
    "model.compile(optimizer='SGD',\n",
    "             loss='sparse_categorical_crossentropy',\n",
    "            metrics=['accuracy'] )\n",
    "\n",
    "model.fit(X_train,y_train,epochs=5)"
   ]
  },
  {
   "cell_type": "code",
   "execution_count": 42,
   "id": "b8b703e2",
   "metadata": {},
   "outputs": [],
   "source": [
    "#Image classification result without using CNN "
   ]
  },
  {
   "cell_type": "code",
   "execution_count": 43,
   "id": "9412eb2f",
   "metadata": {
    "scrolled": false
   },
   "outputs": [
    {
     "name": "stdout",
     "output_type": "stream",
     "text": [
      "313/313 [==============================] - 2s 6ms/step - loss: 1.5047 - accuracy: 0.4654\n"
     ]
    },
    {
     "data": {
      "text/plain": [
       "[1.5046837329864502, 0.46540001034736633]"
      ]
     },
     "execution_count": 43,
     "metadata": {},
     "output_type": "execute_result"
    }
   ],
   "source": [
    "model.evaluate(X_test,y_test)"
   ]
  },
  {
   "cell_type": "code",
   "execution_count": 44,
   "id": "df27f0de",
   "metadata": {},
   "outputs": [
    {
     "data": {
      "text/plain": [
       "array([[3],\n",
       "       [8],\n",
       "       [8],\n",
       "       [0],\n",
       "       [6]], dtype=uint8)"
      ]
     },
     "execution_count": 44,
     "metadata": {},
     "output_type": "execute_result"
    }
   ],
   "source": [
    "y_test[:5]"
   ]
  },
  {
   "cell_type": "code",
   "execution_count": 45,
   "id": "6252c831",
   "metadata": {},
   "outputs": [
    {
     "name": "stdout",
     "output_type": "stream",
     "text": [
      "313/313 [==============================] - 2s 5ms/step\n"
     ]
    },
    {
     "data": {
      "text/plain": [
       "[3, 9, 0, 0, 4]"
      ]
     },
     "execution_count": 45,
     "metadata": {},
     "output_type": "execute_result"
    }
   ],
   "source": [
    "y_pred=model.predict(X_test)\n",
    "y_pred[:5]\n",
    "y_classes = [np.argmax(e) for e in y_pred]\n",
    "y_classes[:5]"
   ]
  },
  {
   "cell_type": "code",
   "execution_count": 46,
   "id": "5c3b7820",
   "metadata": {
    "scrolled": true
   },
   "outputs": [
    {
     "data": {
      "image/png": "[encoded data removed]",
      "text/plain": [
       "<Figure size 1500x200 with 1 Axes>"
      ]
     },
     "metadata": {},
     "output_type": "display_data"
    }
   ],
   "source": [
    "plot_sample(X_train,y_train,4)"
   ]
  },
  {
   "cell_type": "code",
   "execution_count": 47,
   "id": "9e04045e",
   "metadata": {},
   "outputs": [
    {
     "data": {
      "text/plain": [
       "'deer'"
      ]
     },
     "execution_count": 47,
     "metadata": {},
     "output_type": "execute_result"
    }
   ],
   "source": [
    "classes[y_classes[4]]"
   ]
  },
  {
   "cell_type": "code",
   "execution_count": 48,
   "id": "101bfe6a",
   "metadata": {},
   "outputs": [],
   "source": [
    "#USING THE CNN MODEL "
   ]
  },
  {
   "cell_type": "code",
   "execution_count": 49,
   "id": "48be1c75",
   "metadata": {},
   "outputs": [],
   "source": [
    "cnnmodel = keras.Sequential([\n",
    "    # CNN\n",
    "    layers.Conv2D(filters=32, activation='relu', kernel_size=(3, 3), input_shape=(32, 32, 3)),\n",
    "    layers.MaxPooling2D((2, 2)),\n",
    "    \n",
    "    layers.Conv2D(filters=64, activation='relu', kernel_size=(3, 3)),\n",
    "    layers.MaxPooling2D((2, 2)),\n",
    "    \n",
    "    layers.Conv2D(filters=128, activation='relu', kernel_size=(3, 3)),\n",
    "    layers.MaxPooling2D((2, 2)),\n",
    "    \n",
    "    # Dense layers    \n",
    "    keras.layers.Flatten(),\n",
    "    keras.layers.Dense(256, activation='relu'),\n",
    "    keras.layers.Dropout(0.5),  # Add dropout for regularization\n",
    "    keras.layers.Dense(128, activation='relu'),\n",
    "    keras.layers.Dropout(0.5),  # Add dropout for regularization\n",
    "    keras.layers.Dense(10, activation='softmax')\n",
    "])\n",
    "\n",
    "cnnmodel.compile(optimizer='adam',\n",
    "                 loss='sparse_categorical_crossentropy',\n",
    "                 metrics=['accuracy'])\n"
   ]
  },
  {
   "cell_type": "code",
   "execution_count": 50,
   "id": "54a4758f",
   "metadata": {},
   "outputs": [
    {
     "name": "stdout",
     "output_type": "stream",
     "text": [
      "Epoch 1/5\n",
      "1563/1563 [==============================] - 45s 10ms/step - loss: 1.6845 - accuracy: 0.3688\n",
      "Epoch 2/5\n",
      "1563/1563 [==============================] - 8s 5ms/step - loss: 1.2854 - accuracy: 0.5420\n",
      "Epoch 3/5\n",
      "1563/1563 [==============================] - 8s 5ms/step - loss: 1.1232 - accuracy: 0.6085\n",
      "Epoch 4/5\n",
      "1563/1563 [==============================] - 8s 5ms/step - loss: 1.0171 - accuracy: 0.6508\n",
      "Epoch 5/5\n",
      "1563/1563 [==============================] - 8s 5ms/step - loss: 0.9297 - accuracy: 0.6808\n"
     ]
    },
    {
     "data": {
      "text/plain": [
       "<keras.callbacks.History at 0x2018484fc40>"
      ]
     },
     "execution_count": 50,
     "metadata": {},
     "output_type": "execute_result"
    }
   ],
   "source": [
    "cnnmodel.fit(X_train,y_train,epochs=5)"
   ]
  },
  {
   "cell_type": "code",
   "execution_count": 52,
   "id": "81f6704a",
   "metadata": {},
   "outputs": [
    {
     "name": "stdout",
     "output_type": "stream",
     "text": [
      "313/313 [==============================] - 6s 4ms/step - loss: 0.9253 - accuracy: 0.6782\n"
     ]
    },
    {
     "data": {
      "text/plain": [
       "[0.9252961874008179, 0.6782000064849854]"
      ]
     },
     "execution_count": 52,
     "metadata": {},
     "output_type": "execute_result"
    }
   ],
   "source": [
    "cnnmodel.evaluate(X_test,y_test)"
   ]
  },
  {
   "cell_type": "code",
   "execution_count": 53,
   "id": "4dd08fda",
   "metadata": {},
   "outputs": [
    {
     "data": {
      "text/plain": [
       "array([3, 8, 8, 0, 6], dtype=uint8)"
      ]
     },
     "execution_count": 53,
     "metadata": {},
     "output_type": "execute_result"
    }
   ],
   "source": [
    "y_test=y_test.reshape(-1,)\n",
    "y_test[:5]"
   ]
  },
  {
   "cell_type": "code",
   "execution_count": 54,
   "id": "bdeacde3",
   "metadata": {},
   "outputs": [
    {
     "name": "stdout",
     "output_type": "stream",
     "text": [
      "313/313 [==============================] - 1s 3ms/step\n"
     ]
    },
    {
     "data": {
      "text/plain": [
       "array([[4.3131174e-03, 1.7007996e-04, 8.8659286e-02, 3.7250894e-01,\n",
       "        7.0659546e-03, 5.0005329e-01, 1.1999574e-02, 1.2427345e-02,\n",
       "        2.3318417e-03, 4.7059258e-04],\n",
       "       [1.0944027e-02, 9.3796756e-03, 2.0650954e-05, 1.3488562e-05,\n",
       "        5.7329116e-06, 7.1559202e-07, 1.3232558e-06, 2.4748084e-07,\n",
       "        9.7943980e-01, 1.9436251e-04],\n",
       "       [2.0532975e-01, 1.7019044e-01, 3.8395863e-02, 4.0525939e-02,\n",
       "        3.7617590e-02, 1.5911171e-02, 1.8359022e-02, 1.7576253e-02,\n",
       "        2.5720146e-01, 1.9889255e-01],\n",
       "       [7.8004640e-01, 3.7348305e-03, 7.8415029e-02, 5.1455009e-03,\n",
       "        4.2124573e-02, 1.1509580e-03, 2.3020795e-03, 7.9821527e-04,\n",
       "        7.9839438e-02, 6.4429729e-03],\n",
       "       [1.7948794e-06, 2.3367193e-06, 2.4158930e-02, 8.2065267e-03,\n",
       "        5.2398834e-02, 1.0163008e-03, 9.1420472e-01, 9.4623865e-06,\n",
       "        3.5579117e-07, 7.5028845e-07]], dtype=float32)"
      ]
     },
     "execution_count": 54,
     "metadata": {},
     "output_type": "execute_result"
    }
   ],
   "source": [
    "y_pred=cnnmodel.predict(X_test)\n",
    "y_pred[:5]"
   ]
  },
  {
   "cell_type": "code",
   "execution_count": 55,
   "id": "8897ae5c",
   "metadata": {},
   "outputs": [
    {
     "data": {
      "text/plain": [
       "[5, 8, 8, 0, 6]"
      ]
     },
     "execution_count": 55,
     "metadata": {},
     "output_type": "execute_result"
    }
   ],
   "source": [
    "y_classes = [np.argmax(e) for e in y_pred]\n",
    "y_classes[:5]"
   ]
  },
  {
   "cell_type": "code",
   "execution_count": 56,
   "id": "70be7001",
   "metadata": {},
   "outputs": [
    {
     "data": {
      "text/plain": [
       "array([3, 8, 8, 0, 6], dtype=uint8)"
      ]
     },
     "execution_count": 56,
     "metadata": {},
     "output_type": "execute_result"
    }
   ],
   "source": [
    "y_test[:5]"
   ]
  },
  {
   "cell_type": "code",
   "execution_count": 57,
   "id": "fe4e51e7",
   "metadata": {},
   "outputs": [],
   "source": [
    "#Plotting one of  the sample from the Test data set"
   ]
  },
  {
   "cell_type": "code",
   "execution_count": 58,
   "id": "ef7209de",
   "metadata": {},
   "outputs": [
    {
     "data": {
      "image/png": "[encoded data removed]",
      "text/plain": [
       "<Figure size 1500x200 with 1 Axes>"
      ]
     },
     "metadata": {},
     "output_type": "display_data"
    }
   ],
   "source": [
    "plot_sample(X_test,y_test,4)"
   ]
  },
  {
   "cell_type": "code",
   "execution_count": 59,
   "id": "c0cc42b6",
   "metadata": {},
   "outputs": [],
   "source": [
    "#Predicted output using the model"
   ]
  },
  {
   "cell_type": "code",
   "execution_count": 60,
   "id": "83810934",
   "metadata": {},
   "outputs": [
    {
     "data": {
      "text/plain": [
       "'frog'"
      ]
     },
     "execution_count": 60,
     "metadata": {},
     "output_type": "execute_result"
    }
   ],
   "source": [
    "classes[y_classes[4]]"
   ]
  },
  {
   "cell_type": "code",
   "execution_count": null,
   "id": "fc8e48cb",
   "metadata": {},
   "outputs": [],
   "source": []
  }
 ],
 "metadata": {
  "kernelspec": {
   "display_name": "Python (tf-w-gpu)",
   "language": "python",
   "name": "tf-w-gpu"
  },
  "language_info": {
   "codemirror_mode": {
    "name": "ipython",
    "version": 3
   },
   "file_extension": ".py",
   "mimetype": "text/x-python",
   "name": "python",
   "nbconvert_exporter": "python",
   "pygments_lexer": "ipython3",
   "version": "3.8.0"
  }
 },
 "nbformat": 4,
 "nbformat_minor": 5
}
